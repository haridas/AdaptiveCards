{
 "cells": [
  {
   "cell_type": "code",
   "execution_count": 1,
   "metadata": {},
   "outputs": [],
   "source": [
    "%load_ext autoreload\n",
    "%autoreload 2"
   ]
  },
  {
   "cell_type": "code",
   "execution_count": 13,
   "metadata": {},
   "outputs": [],
   "source": [
    "import os\n",
    "import io\n",
    "import six.moves.urllib as urllib\n",
    "import sys\n",
    "import json\n",
    "import tarfile\n",
    "import zipfile\n",
    "from typing import List\n",
    "\n",
    "\n",
    "from PIL import Image, ImageDraw2, ImageDraw, ImageFont\n",
    "import cv2\n",
    "import numpy as np\n",
    "import pandas as pd\n",
    "import tensorflow as tf\n",
    "\n",
    "\n",
    "from object_detection.utils import label_map_util\n",
    "from object_detection.utils import visualization_utils as vis_util\n",
    "\n",
    "os.environ[\"CUDA_VISIBLE_DEVICES\"] = \"\"\n",
    "sys.path.insert(0, \"../\")\n",
    "\n",
    "from mystique.initial_setups import set_graph_and_tensors\n",
    "from mystique.predict_card import PredictCard\n",
    "from mystique.detect_objects import ObjectDetection\n",
    "from mystique.utils import plot_results, COLORS, plot_bboxes\n",
    "from mystique import config\n",
    "from mystique.card_layout import min_area_iou, bbox_area, iou_bbox, filter_similar_bboxes\n",
    "\n",
    "# This is needed to display the images.\n",
    "import matplotlib.pyplot as plt\n",
    "from matplotlib import pylab, figure\n",
    "\n",
    "%matplotlib inline"
   ]
  },
  {
   "cell_type": "code",
   "execution_count": 3,
   "metadata": {},
   "outputs": [],
   "source": [
    "def predict_bbox(img_path) -> np.array:\n",
    "    \"\"\"\n",
    "    Predict the bounding boxes, class label and draw the bbox\n",
    "    on the original image.\n",
    "    \"\"\"\n",
    "    img = Image.open(img_path)\n",
    "    img_np = np.asarray(img)\n",
    "    img_np = cv2.cvtColor(img_np, cv2.COLOR_RGB2BGR)\n",
    "    img_np_copy = img_np.copy()\n",
    "    object_detection = ObjectDetection()\n",
    "    \n",
    "    output, category = object_detection.get_objects(img_np, img)\n",
    "    # google models wants ymin, xmin, ymax, xmax format.\n",
    "    # output[\"detection_boxes\"] = output[\"detection_boxes\"][:, [1, 0, 3, 2]]\n",
    "    \n",
    "    _imgbuf = plot_results(img,\n",
    "                 output[\"detection_classes\"],\n",
    "                 output[\"detection_scores\"],\n",
    "                 output[\"detection_boxes\"]\n",
    "                )\n",
    "    return _imgbuf"
   ]
  },
  {
   "cell_type": "code",
   "execution_count": null,
   "metadata": {},
   "outputs": [],
   "source": []
  },
  {
   "cell_type": "code",
   "execution_count": 4,
   "metadata": {},
   "outputs": [
    {
     "name": "stdout",
     "output_type": "stream",
     "text": [
      "WARNING:tensorflow:From /mnt1/haridas/projects/venv/lib/python3.6/site-packages/object_detection/utils/label_map_util.py:137: The name tf.gfile.GFile is deprecated. Please use tf.io.gfile.GFile instead.\n",
      "\n"
     ]
    }
   ],
   "source": [
    "img_path = \"/home/haridas/projects/AdaptiveCards-ro/source/pic2card/app/assets/samples/8.png\"\n",
    "a = Image.open(predict_bbox(img_path))\n",
    "img_path = \"/home/haridas/projects/AdaptiveCards-ro/source/pic2card/app/assets/samples/9.png\"\n",
    "b = Image.open(predict_bbox(img_path))"
   ]
  },
  {
   "cell_type": "code",
   "execution_count": null,
   "metadata": {},
   "outputs": [],
   "source": []
  },
  {
   "cell_type": "code",
   "execution_count": null,
   "metadata": {},
   "outputs": [],
   "source": [
    "# np.random.choice(range(1000))"
   ]
  },
  {
   "cell_type": "markdown",
   "metadata": {},
   "source": [
    "# Better Layout setting based on object coordinate."
   ]
  },
  {
   "cell_type": "code",
   "execution_count": null,
   "metadata": {},
   "outputs": [],
   "source": [
    "img_path = \"/home/haridas/projects/mystique/data/templates_test_data/2.png\"\n",
    "img1 = Image.open(img_path)"
   ]
  },
  {
   "cell_type": "code",
   "execution_count": null,
   "metadata": {},
   "outputs": [],
   "source": [
    "# od_result = {k : np.array(v) for k, v in json.loads(open(\"../od_result_100.json\").read()).items()}\n",
    "# img_path = \"/home/haridas/projects/mystique/data/templates_test_data/1.png\"\n",
    "# img = Image.open(img_path)\n",
    "\n",
    "od_result = {k : np.array(v) for k, v in json.loads(open(\"../od_result_16.json\").read()).items()}\n",
    "img_path = \"/home/haridas/projects/mystique/data/train_and_test-2020-Jun-05-coco/train/16.png\"\n",
    "img = Image.open(img_path)"
   ]
  },
  {
   "cell_type": "code",
   "execution_count": null,
   "metadata": {},
   "outputs": [],
   "source": [
    "plt.imshow(Image.open(plot_results(img,\n",
    "             scores=od_result[\"detection_scores\"],\n",
    "             boxes=od_result[\"detection_boxes\"],\n",
    "             classes=od_result[\"detection_classes\"])))"
   ]
  },
  {
   "cell_type": "code",
   "execution_count": null,
   "metadata": {},
   "outputs": [],
   "source": []
  },
  {
   "cell_type": "code",
   "execution_count": null,
   "metadata": {},
   "outputs": [],
   "source": [
    "box_df = pd.DataFrame(\n",
    "    [(ind, *i) for ind, i in enumerate(od_result['detection_boxes'])],\n",
    "    columns=[\"ind\", \"x1\", \"y1\", \"x2\", \"y2\"]\n",
    ")\n",
    "box_df[\"class\"] = od_result[\"detection_classes\"]"
   ]
  },
  {
   "cell_type": "code",
   "execution_count": null,
   "metadata": {},
   "outputs": [],
   "source": []
  },
  {
   "cell_type": "code",
   "execution_count": null,
   "metadata": {},
   "outputs": [],
   "source": [
    "# [len(i) for i in collect_rows(bbox_list)]\n",
    "bbox_list = [(int(t2), t1) for (*t1, t2) in box_df.sort_values(by=[\"y1\", \"x1\"]).to_numpy()[:, 1:]]\n",
    "card_layout = collect_rows(bbox_list)"
   ]
  },
  {
   "cell_type": "code",
   "execution_count": null,
   "metadata": {},
   "outputs": [],
   "source": [
    "# min_iou(*[i[1] for i in bbox_list[:2]])\n",
    "# parse_row(bbox_list)"
   ]
  },
  {
   "cell_type": "code",
   "execution_count": null,
   "metadata": {},
   "outputs": [],
   "source": []
  },
  {
   "cell_type": "code",
   "execution_count": null,
   "metadata": {},
   "outputs": [],
   "source": [
    "check_same_row([\n",
    "    15.06196403503418,\n",
    "      204.00167846679688,\n",
    "      149.9774169921875,\n",
    "      223.87066650390625\n",
    "],\n",
    "     [15.363767623901367,\n",
    "      186.9206085205078,\n",
    "      148.37368774414062,\n",
    "      206.7216339111328])"
   ]
  },
  {
   "cell_type": "code",
   "execution_count": null,
   "metadata": {},
   "outputs": [],
   "source": []
  },
  {
   "cell_type": "code",
   "execution_count": null,
   "metadata": {},
   "outputs": [],
   "source": [
    "# print(print_layout(card_layout))"
   ]
  },
  {
   "cell_type": "code",
   "execution_count": null,
   "metadata": {},
   "outputs": [],
   "source": []
  },
  {
   "cell_type": "code",
   "execution_count": null,
   "metadata": {},
   "outputs": [],
   "source": [
    "plt.figure(figsize=(10, 15))\n",
    "plt.imshow(Image.open(plot_results(img,\n",
    "             scores=od_result[\"detection_scores\"],\n",
    "             boxes=od_result[\"detection_boxes\"],\n",
    "             classes=od_result[\"detection_classes\"])).resize(img.size))"
   ]
  }
 ],
 "metadata": {
  "kernelspec": {
   "display_name": "Python 3",
   "language": "python",
   "name": "python3"
  },
  "language_info": {
   "codemirror_mode": {
    "name": "ipython",
    "version": 3
   },
   "file_extension": ".py",
   "mimetype": "text/x-python",
   "name": "python",
   "nbconvert_exporter": "python",
   "pygments_lexer": "ipython3",
   "version": "3.6.9"
  }
 },
 "nbformat": 4,
 "nbformat_minor": 4
}
