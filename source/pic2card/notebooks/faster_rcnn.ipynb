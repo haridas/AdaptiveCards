{
 "cells": [
  {
   "cell_type": "code",
   "execution_count": 419,
   "metadata": {},
   "outputs": [
    {
     "name": "stdout",
     "output_type": "stream",
     "text": [
      "The autoreload extension is already loaded. To reload it, use:\n",
      "  %reload_ext autoreload\n"
     ]
    }
   ],
   "source": [
    "%load_ext autoreload\n",
    "%autoreload 2"
   ]
  },
  {
   "cell_type": "code",
   "execution_count": 420,
   "metadata": {},
   "outputs": [],
   "source": [
    "import os\n",
    "import io\n",
    "import six.moves.urllib as urllib\n",
    "import sys\n",
    "import json\n",
    "import tarfile\n",
    "import zipfile\n",
    "from typing import List\n",
    "\n",
    "\n",
    "from PIL import Image, ImageDraw2, ImageDraw, ImageFont\n",
    "import cv2\n",
    "import numpy as np\n",
    "import pandas as pd\n",
    "import tensorflow as tf\n",
    "\n",
    "\n",
    "from object_detection.utils import label_map_util\n",
    "from object_detection.utils import visualization_utils as vis_util\n",
    "\n",
    "os.environ[\"CUDA_VISIBLE_DEVICES\"] = \"\"\n",
    "sys.path.insert(0, \"../\")\n",
    "\n",
    "from mystique.initial_setups import set_graph_and_tensors\n",
    "from mystique.predict_card import PredictCard\n",
    "from mystique.detect_objects import ObjectDetection\n",
    "from mystique.utils import plot_results, COLORS\n",
    "from mystique import config\n",
    "\n",
    "# This is needed to display the images.\n",
    "import matplotlib.pyplot as plt\n",
    "from matplotlib import pylab, figure\n",
    "\n",
    "%matplotlib inline"
   ]
  },
  {
   "cell_type": "code",
   "execution_count": 47,
   "metadata": {},
   "outputs": [],
   "source": [
    "def predict_bbox(img_path) -> np.array:\n",
    "    \"\"\"\n",
    "    Predict the bounding boxes, class label and draw the bbox\n",
    "    on the original image.\n",
    "    \"\"\"\n",
    "    img = Image.open(img_path)\n",
    "    img_np = np.asarray(img)\n",
    "    img_np = cv2.cvtColor(img_np, cv2.COLOR_RGB2BGR)\n",
    "    img_np_copy = img_np.copy()\n",
    "    object_detection = ObjectDetection()\n",
    "    \n",
    "    output, category = object_detection.get_objects(img_np, img)\n",
    "    # google models wants ymin, xmin, ymax, xmax format.\n",
    "    # output[\"detection_boxes\"] = output[\"detection_boxes\"][:, [1, 0, 3, 2]]\n",
    "    \n",
    "    _imgbuf = plot_results(img,\n",
    "                 output[\"detection_classes\"],\n",
    "                 output[\"detection_scores\"],\n",
    "                 output[\"detection_boxes\"]\n",
    "                )\n",
    "    return _imgbuf"
   ]
  },
  {
   "cell_type": "code",
   "execution_count": null,
   "metadata": {},
   "outputs": [],
   "source": []
  },
  {
   "cell_type": "code",
   "execution_count": 88,
   "metadata": {},
   "outputs": [],
   "source": [
    "img_path = \"/home/haridas/projects/AdaptiveCards-ro/source/pic2card/app/assets/samples/8.png\"\n",
    "a = Image.open(predict_bbox(img_path))\n",
    "img_path = \"/home/haridas/projects/AdaptiveCards-ro/source/pic2card/app/assets/samples/9.png\"\n",
    "b = Image.open(predict_bbox(img_path))"
   ]
  },
  {
   "cell_type": "code",
   "execution_count": null,
   "metadata": {},
   "outputs": [],
   "source": []
  },
  {
   "cell_type": "code",
   "execution_count": 496,
   "metadata": {},
   "outputs": [],
   "source": [
    "# np.random.choice(range(1000))"
   ]
  },
  {
   "cell_type": "markdown",
   "metadata": {},
   "source": [
    "# Better Layout setting based on object coordinate."
   ]
  },
  {
   "cell_type": "code",
   "execution_count": 738,
   "metadata": {},
   "outputs": [],
   "source": [
    "img_path = \"/home/haridas/projects/mystique/data/templates_test_data/2.png\"\n",
    "img1 = Image.open(img_path)"
   ]
  },
  {
   "cell_type": "code",
   "execution_count": 688,
   "metadata": {},
   "outputs": [],
   "source": [
    "# od_result = {k : np.array(v) for k, v in json.loads(open(\"../od_result_100.json\").read()).items()}\n",
    "# img_path = \"/home/haridas/projects/mystique/data/templates_test_data/1.png\"\n",
    "# img = Image.open(img_path)\n",
    "\n",
    "od_result = {k : np.array(v) for k, v in json.loads(open(\"../od_result_18.json\").read()).items()}\n",
    "img_path = \"/home/haridas/projects/mystique/data/train_and_test-2020-Jun-05-coco/train/18.png\"\n",
    "img = Image.open(img_path)"
   ]
  },
  {
   "cell_type": "code",
   "execution_count": 739,
   "metadata": {},
   "outputs": [],
   "source": [
    "# Image.open(plot_results(img,\n",
    "#              scores=od_result[\"detection_scores\"],\n",
    "#              boxes=od_result[\"detection_boxes\"],\n",
    "#              classes=od_result[\"detection_classes\"]))"
   ]
  },
  {
   "cell_type": "code",
   "execution_count": null,
   "metadata": {},
   "outputs": [],
   "source": []
  },
  {
   "cell_type": "code",
   "execution_count": 737,
   "metadata": {},
   "outputs": [],
   "source": [
    "box_df = pd.DataFrame(\n",
    "    [(ind, *i) for ind, i in enumerate(od_result['detection_boxes'])],\n",
    "    columns=[\"ind\", \"x1\", \"y1\", \"x2\", \"y2\"]\n",
    ")\n",
    "box_df[\"class\"] = od_result[\"detection_classes\"]"
   ]
  },
  {
   "cell_type": "code",
   "execution_count": 741,
   "metadata": {},
   "outputs": [],
   "source": [
    "def bbox_area(x1, y1, x2, y2):\n",
    "    return abs(x2 - x1) * abs(y2 - y1)\n",
    "\n",
    "\n",
    "def min_iou(box1, box2, threshold=0.9):\n",
    "    \"\"\"check box1 and box2 intersecting and its area is\n",
    "        not greater than the 90% of min area of box1 and box2.\n",
    "    \"\"\"\n",
    "    x1, y1, x2, y2 = box1\n",
    "    xx1, yy1, xx2, yy2 = box2\n",
    "    \n",
    "    x = max([x1, xx1])\n",
    "    y = max([y1, yy1])\n",
    "    xx = min([x2, xx2])\n",
    "    yy = min([y2, yy2])\n",
    "    \n",
    "    # No intersection at all.\n",
    "    if x >= xx or y >= yy:\n",
    "        return False\n",
    "    \n",
    "    box = [x, y, xx, yy]\n",
    "    min_box_area = min([bbox_area(*box1), bbox_area(*box2)])\n",
    "    #print(f\"=> {bbox_area(*box)} : {min_box_area * threshold} , {box1} : {box2} : {box}\")\n",
    "    return bbox_area(*box) >= threshold * min_box_area\n",
    "\n",
    "\n",
    "def check_same_row(box1, box2):\n",
    "    \"Check box1 and box2 are in same row.\"\n",
    "    x1, y1, x2, y2 = box1\n",
    "    xx1, yy1, xx2, yy2 = box2\n",
    "    return min([y2, yy2]) > max([y1, yy1])\n",
    "\n",
    "\n",
    "def check_same_col(box1, box2):\n",
    "    \"Two boxes are aligned x-axis or not\"\n",
    "    x1, y1, x2, y2 = box1\n",
    "    xx1, yy1, xx2, yy2 = box2\n",
    "    return min([x2, xx2]) > max([x1, xx1])\n",
    "\n",
    "\n",
    "def merge_box_coords(box1, box2):\n",
    "    \"Merge two box coordinates and create the enclosed box coordinate.\"\n",
    "    x1 = min(box1[0], box2[0])\n",
    "    y1 = min(box1[1], box2[1])\n",
    "    x2 = max(box1[2], box2[2])\n",
    "    y2 = max(box1[3], box2[3])\n",
    "    return [x1, y1, x2, y2]\n",
    "    \n",
    "\n",
    "def collect_rows(bbox_list):\n",
    "    \"\"\"\n",
    "    @param bbox_list: sorted bbox_list with \"y1\" and \"y2\", also\n",
    "                      includes item label.\n",
    "    \"\"\"\n",
    "    rows = []\n",
    "    row = []\n",
    "    bbox_list = sorted(bbox_list, key=lambda x: x[1][1])\n",
    "    while bbox_list:\n",
    "        label, box = bbox_list.pop(0)\n",
    "        if not row:\n",
    "            row.append((label, box))\n",
    "            box_coord = box\n",
    "            continue\n",
    "        elif check_same_row(box_coord, box):\n",
    "            row.append((label, box))\n",
    "            # update the row coordinate\n",
    "            box_coord = merge_box_coords(box, box_coord)\n",
    "        else:\n",
    "            # Found a full row, the new item is part of\n",
    "            # next element.\n",
    "            rows.append(parse_row(row))\n",
    "            row = [(label, box)]\n",
    "            box_coord = box\n",
    "    else:\n",
    "        row and rows.append(parse_row(row))\n",
    "    return rows\n",
    "\n",
    "\n",
    "def parse_row(row):\n",
    "    #time.sleep(1)\n",
    "    #print(len(row))\n",
    "    #print (row)\n",
    "    if len(row) == 1:\n",
    "        return row[0]\n",
    "    else:\n",
    "        item_set = {\n",
    "            \"type\": \"ItemSet\",\n",
    "            \"columns\": []\n",
    "        }\n",
    "        # Sort items based on x1 axis.\n",
    "        row = sorted(row, key=lambda x: x[1][0])\n",
    "        \n",
    "        #print(row)\n",
    "        col = []\n",
    "        has_nested_col = False\n",
    "        \n",
    "        while row:\n",
    "            label, box = row.pop(0)\n",
    "            #print(f\"box poped: {box}\")\n",
    "            if not col:\n",
    "                col.append((label, box))\n",
    "                col_coord = box\n",
    "                continue\n",
    "            elif check_same_col(col_coord, box):\n",
    "                # Mark the column has multiple row or not.\n",
    "                if min_iou(box, col_coord):\n",
    "                    #print(f\"box intersection: box: {box}, col_cord: {col_coord}\")\n",
    "                    has_nested_col = True\n",
    "                    print(\"nesting.\")\n",
    "                    \n",
    "                col.append((label, box))\n",
    "                col_coord = merge_box_coords(col_coord, box)\n",
    "                #print(f\"box: {box}, col Cord: {col_coord}\")\n",
    "            else:\n",
    "                # Reached end of current column.\n",
    "                #print(\"----- found a col ----\")\n",
    "                if has_nested_col:\n",
    "                    item_set[\"columns\"].append(collect_rows(col))\n",
    "                    #item_set[\"columns\"].append(col)\n",
    "                else:\n",
    "                    item_set[\"columns\"].append(col)\n",
    "                \n",
    "                col = [(label, box)]\n",
    "                col_coord = box\n",
    "                # Reset for next column aggregation.\n",
    "                has_nested_col = False\n",
    "        else:\n",
    "            # Handle last column\n",
    "            if has_nested_col:\n",
    "                item_set[\"columns\"].append(collect_rows(col))\n",
    "                #item_set[\"columns\"].append(col)\n",
    "            else:\n",
    "                item_set[\"columns\"].append(col)\n",
    "        return item_set"
   ]
  },
  {
   "cell_type": "code",
   "execution_count": 695,
   "metadata": {},
   "outputs": [],
   "source": [
    "# [len(i) for i in collect_rows(bbox_list)]\n",
    "bbox_list = [(int(t2), t1) for (*t1, t2) in box_df.sort_values(by=[\"y1\", \"x1\"]).to_numpy()[:, 1:]]"
   ]
  },
  {
   "cell_type": "code",
   "execution_count": 742,
   "metadata": {},
   "outputs": [],
   "source": [
    "card_layout = collect_rows(bbox_list)\n",
    "# min_iou(*[i[1] for i in bbox_list[:2]])\n",
    "# parse_row(bbox_list)"
   ]
  },
  {
   "cell_type": "code",
   "execution_count": 752,
   "metadata": {},
   "outputs": [],
   "source": [
    "# card_layout.copy?"
   ]
  },
  {
   "cell_type": "code",
   "execution_count": 693,
   "metadata": {},
   "outputs": [
    {
     "data": {
      "text/plain": [
       "<matplotlib.image.AxesImage at 0x7fc0aa8e4320>"
      ]
     },
     "execution_count": 693,
     "metadata": {},
     "output_type": "execute_result"
    },
    {
     "data": {
      "image/png": "[encoded data removed]",
      "text/plain": [
       "<Figure size 432x288 with 1 Axes>"
      ]
     },
     "metadata": {
      "needs_background": "light"
     },
     "output_type": "display_data"
    }
   ],
   "source": [
    "row_sorted = sorted(row, key=lambda x: x[1][0])\n",
    "plt.figure(figsize=(10, 15))\n",
    "plt.imshow(Image.open(plot_results(img,\n",
    "             scores=od_result[\"detection_scores\"],\n",
    "             boxes=od_result[\"detection_boxes\"],\n",
    "             classes=od_result[\"detection_classes\"])).resize(img.size))"
   ]
  }
 ],
 "metadata": {
  "kernelspec": {
   "display_name": "Python 3",
   "language": "python",
   "name": "python3"
  },
  "language_info": {
   "codemirror_mode": {
    "name": "ipython",
    "version": 3
   },
   "file_extension": ".py",
   "mimetype": "text/x-python",
   "name": "python",
   "nbconvert_exporter": "python",
   "pygments_lexer": "ipython3",
   "version": "3.6.9"
  }
 },
 "nbformat": 4,
 "nbformat_minor": 4
}
